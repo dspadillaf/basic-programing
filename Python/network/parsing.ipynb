{
 "cells": [
  {
   "attachments": {},
   "cell_type": "markdown",
   "metadata": {},
   "source": [
    "# What is web scraping?\n",
    "When a program or script pretends yo be a browser and retrieves web pages, looks at those web pages, extracts information and then looks at more web pages\n",
    "\n",
    "Search engines scrape web pages - we call this \"spidering the web\" or \"web crawling\""
   ]
  },
  {
   "attachments": {},
   "cell_type": "markdown",
   "metadata": {},
   "source": [
    "__Why scrape?__ Pull data - particularly social data - who link to who?\n",
    "Get your own data back out of some system that has no \"export capability\"\n",
    "Monitor a site for new information\n",
    "Spider the web yo make a database for a search engine"
   ]
  },
  {
   "attachments": {},
   "cell_type": "markdown",
   "metadata": {},
   "source": [
    "__Scraping web pages__\n",
    "There is some controversy about web page scraping and some sites are a bit snippy about it\n",
    "Republishing copyrighted information is not allowed\n",
    "Violating terms of service is not allowed"
   ]
  }
 ],
 "metadata": {
  "kernelspec": {
   "display_name": "Python 3",
   "language": "python",
   "name": "python3"
  },
  "language_info": {
   "name": "python",
   "version": "3.9.6 (tags/v3.9.6:db3ff76, Jun 28 2021, 15:26:21) [MSC v.1929 64 bit (AMD64)]"
  },
  "orig_nbformat": 4,
  "vscode": {
   "interpreter": {
    "hash": "93d9f2665b7f543645f6c3add91e5cf612717c18fd6fbc7be940fdb393e54a68"
   }
  }
 },
 "nbformat": 4,
 "nbformat_minor": 2
}
